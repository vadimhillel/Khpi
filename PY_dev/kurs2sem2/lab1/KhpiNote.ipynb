{
 "cells": [
  {
   "cell_type": "markdown",
   "metadata": {},
   "source": [
    "---\n",
    "\n",
    "**Georgia**, nestled in the heart of the Caucasus, is a country of rich history, vibrant culture, and stunning natural beauty. Let's explore some of its facets:\n",
    "\n",
    "---\n",
    "\n",
    "## **Overview**\n",
    "\n",
    "**Area**: 69,700 km²  \n",
    "**State system**: Unitary parliamentary republic  \n",
    "**Population**: Approximately 3.7 million  \n",
    "**Capital**: Tbilisi  \n",
    "**Official Language**: Georgian  \n",
    "**Currency**: Georgian Lari (GEL)  \n",
    "\n",
    "---\n",
    "\n",
    "## **Outstanding Personalities**\n",
    "\n",
    "### 1. **Nino Haratischvili**\n",
    "- *Author, playwright, novelist*\n",
    "- Prima ballerina and artistic director of the State Ballet of Georgia, considered one of the greatest ballerinas of the 20th century\n",
    "- Her novel \"The Eighth Life\" gained international acclaim\n",
    "\n",
    "### 2. **Joseph Stalin**\n",
    "- *Historical Figure*\n",
    "- Former Soviet Union leader and one of the most controversial figures in history.\n",
    "\n",
    "### 3. **Zurab Tsereteli**\n",
    "- *Painter, sculptor and architect*\n",
    "- World-renowned artist and sculptor, known for his large-scale monuments and public art installations\n",
    "\n",
    "---\n",
    "\n",
    "## **Monuments of Culture and Nature**\n",
    "\n",
    "### **1. Cultural Monuments**\n",
    "\n",
    "| Monument            | Location       |\n",
    "|---------------------|----------------|\n",
    "| **Svetitskhoveli Cathedral** | Mtskheta |\n",
    "| **Gelati Monastery**         | Kutaisi  |\n",
    "| **Narikala Fortress**         | Tbilisi  |\n",
    "\n",
    "### **2. Natural Wonders**\n",
    "\n",
    "- **Caucasus Mountains**: Offering breathtaking scenery and hiking opportunities.\n",
    "- **Martvili Canyon**: A stunning natural gorge with turquoise waters.\n",
    "\n",
    "---\n",
    "\n",
    "## **Cuisine**\n",
    "\n",
    "Georgian cuisine is famous for its rich flavors and unique dishes, such as:\n",
    "\n",
    "- **Khachapuri**: A cheese-filled bread that's a staple in Georgian meals.\n",
    "- **Khinkali**: Dumplings filled with spiced meat or cheese.\n",
    "- **Satsivi**: A savory walnut sauce often served with chicken or turkey.\n",
    "\n",
    "---\n",
    "\n",
    "# **Georgia: Flag**\n",
    "\n",
    "```html\n",
    "<!DOCTYPE html>\n",
    "<html lang=\"en\">\n",
    "<head>\n",
    "<meta charset=\"UTF-8\">\n",
    "<meta name=\"viewport\" content=\"width=device-width, initial-scale=1.0\">\n",
    "<title>Flag of Georgia</title>\n",
    "</head>\n",
    "<body>\n",
    "<svg viewBox=\"0 0 200 130\" xmlns=\"http://www.w3.org/2000/svg\" xmlns:xlink=\"http://www.w3.org/1999/xlink\">\n",
    "  \n",
    "  <!-- Background -->\n",
    "  <rect x=\"0\" y=\"0\" width=\"200\" height=\"130\" fill=\"white\" />\n",
    "\n",
    "  <!-- Central cross -->\n",
    "  <rect x=\"85\" y=\"0\" width=\"30\" height=\"130\" fill=\"#e8112d\" />\n",
    "  <rect x=\"0\" y=\"55\" width=\"200\" height=\"25\" fill=\"#e8112d\" />\n",
    "  \n",
    "  <!-- Small crosses -->\n",
    "  <g fill=\"#e8112d\">\n",
    "    <!-- Top left -->\n",
    "    <g transform=\"translate(0,5)\">\n",
    "      <rect x=\"30\" y=\"15\" width=\"5\" height=\"15\" />\n",
    "      <rect x=\"25\" y=\"20\" width=\"15\" height=\"5\" />\n",
    "    </g>\n",
    "    <!-- Top right -->\n",
    "    <g transform=\"translate(0,5)\">\n",
    "      <rect x=\"160\" y=\"15\" width=\"5\" height=\"15\" />\n",
    "      <rect x=\"155\" y=\"20\" width=\"15\" height=\"5\" />\n",
    "    </g>\n",
    "    <!-- Bottom left -->\n",
    "    <g transform=\"translate(0,-5)\">\n",
    "      <rect x=\"30\" y=\"100\" width=\"5\" height=\"15\" />\n",
    "      <rect x=\"25\" y=\"105\" width=\"15\" height=\"5\" />\n",
    "    </g>\n",
    "    <!-- Bottom right -->\n",
    "    <g transform=\"translate(0,-5)\">\n",
    "      <rect x=\"160\" y=\"100\" width=\"5\" height=\"15\" />\n",
    "      <rect x=\"155\" y=\"105\" width=\"15\" height=\"5\" />\n",
    "    </g>\n",
    "  </g>\n",
    "</svg>\n",
    "</body>\n",
    "</html>\n",
    "```\n"
   ]
  },
  {
   "cell_type": "code",
   "execution_count": 126,
   "metadata": {},
   "outputs": [],
   "source": [
    "task_8 = lambda lst: sorted(lst, key=lambda x: -x if _is_numeric(x) else _raise_value_error(x))\n",
    "\n",
    "def _is_numeric(x):\n",
    "    return isinstance(x, (int, float))\n",
    "\n",
    "def _raise_value_error(x):\n",
    "    raise ValueError(\"Error. A non-numeric value is present in the list: {}\".format(x))"
   ]
  },
  {
   "cell_type": "code",
   "execution_count": 125,
   "metadata": {},
   "outputs": [
    {
     "name": "stdout",
     "output_type": "stream",
     "text": [
      "[78, 34, 23, 7, 5, 3, 3]\n"
     ]
    }
   ],
   "source": [
    "input_list = [5, 3, 78, 3, 23, 7, 34]\n",
    "print(task_8(input_list))"
   ]
  },
  {
   "cell_type": "code",
   "execution_count": 127,
   "metadata": {},
   "outputs": [
    {
     "ename": "ValueError",
     "evalue": "Error. A non-numeric value is present in the list: afaf",
     "output_type": "error",
     "traceback": [
      "\u001b[0;31m---------------------------------------------------------------------------\u001b[0m",
      "\u001b[0;31mValueError\u001b[0m                                Traceback (most recent call last)",
      "\u001b[1;32m/Users/thegreatest/PyFolder/Khpi/KhpiNote.ipynb Cell 4\u001b[0m line \u001b[0;36m2\n\u001b[1;32m      <a href='vscode-notebook-cell:/Users/thegreatest/PyFolder/Khpi/KhpiNote.ipynb#X16sZmlsZQ%3D%3D?line=0'>1</a>\u001b[0m input_list \u001b[39m=\u001b[39m [\u001b[39m5\u001b[39m, \u001b[39m3\u001b[39m, \u001b[39m78\u001b[39m, \u001b[39m3\u001b[39m, \u001b[39m23\u001b[39m, \u001b[39m7\u001b[39m, \u001b[39m34\u001b[39m, \u001b[39m\"\u001b[39m\u001b[39mafaf\u001b[39m\u001b[39m\"\u001b[39m]\n\u001b[0;32m----> <a href='vscode-notebook-cell:/Users/thegreatest/PyFolder/Khpi/KhpiNote.ipynb#X16sZmlsZQ%3D%3D?line=1'>2</a>\u001b[0m \u001b[39mprint\u001b[39m(task_8(input_list))\n",
      "\u001b[1;32m/Users/thegreatest/PyFolder/Khpi/KhpiNote.ipynb Cell 4\u001b[0m line \u001b[0;36m1\n\u001b[0;32m----> <a href='vscode-notebook-cell:/Users/thegreatest/PyFolder/Khpi/KhpiNote.ipynb#X16sZmlsZQ%3D%3D?line=0'>1</a>\u001b[0m task_8 \u001b[39m=\u001b[39m \u001b[39mlambda\u001b[39;00m lst: \u001b[39msorted\u001b[39;49m(lst, key\u001b[39m=\u001b[39;49m\u001b[39mlambda\u001b[39;49;00m x: \u001b[39m-\u001b[39;49mx \u001b[39mif\u001b[39;49;00m _is_numeric(x) \u001b[39melse\u001b[39;49;00m _raise_value_error(x))\n\u001b[1;32m      <a href='vscode-notebook-cell:/Users/thegreatest/PyFolder/Khpi/KhpiNote.ipynb#X16sZmlsZQ%3D%3D?line=2'>3</a>\u001b[0m \u001b[39mdef\u001b[39;00m \u001b[39m_is_numeric\u001b[39m(x):\n\u001b[1;32m      <a href='vscode-notebook-cell:/Users/thegreatest/PyFolder/Khpi/KhpiNote.ipynb#X16sZmlsZQ%3D%3D?line=3'>4</a>\u001b[0m     \u001b[39mreturn\u001b[39;00m \u001b[39misinstance\u001b[39m(x, (\u001b[39mint\u001b[39m, \u001b[39mfloat\u001b[39m))\n",
      "\u001b[1;32m/Users/thegreatest/PyFolder/Khpi/KhpiNote.ipynb Cell 4\u001b[0m line \u001b[0;36m1\n\u001b[0;32m----> <a href='vscode-notebook-cell:/Users/thegreatest/PyFolder/Khpi/KhpiNote.ipynb#X16sZmlsZQ%3D%3D?line=0'>1</a>\u001b[0m task_8 \u001b[39m=\u001b[39m \u001b[39mlambda\u001b[39;00m lst: \u001b[39msorted\u001b[39m(lst, key\u001b[39m=\u001b[39m\u001b[39mlambda\u001b[39;00m x: \u001b[39m-\u001b[39mx \u001b[39mif\u001b[39;00m _is_numeric(x) \u001b[39melse\u001b[39;00m _raise_value_error(x))\n\u001b[1;32m      <a href='vscode-notebook-cell:/Users/thegreatest/PyFolder/Khpi/KhpiNote.ipynb#X16sZmlsZQ%3D%3D?line=2'>3</a>\u001b[0m \u001b[39mdef\u001b[39;00m \u001b[39m_is_numeric\u001b[39m(x):\n\u001b[1;32m      <a href='vscode-notebook-cell:/Users/thegreatest/PyFolder/Khpi/KhpiNote.ipynb#X16sZmlsZQ%3D%3D?line=3'>4</a>\u001b[0m     \u001b[39mreturn\u001b[39;00m \u001b[39misinstance\u001b[39m(x, (\u001b[39mint\u001b[39m, \u001b[39mfloat\u001b[39m))\n",
      "\u001b[1;32m/Users/thegreatest/PyFolder/Khpi/KhpiNote.ipynb Cell 4\u001b[0m line \u001b[0;36m7\n\u001b[1;32m      <a href='vscode-notebook-cell:/Users/thegreatest/PyFolder/Khpi/KhpiNote.ipynb#X16sZmlsZQ%3D%3D?line=5'>6</a>\u001b[0m \u001b[39mdef\u001b[39;00m \u001b[39m_raise_value_error\u001b[39m(x):\n\u001b[0;32m----> <a href='vscode-notebook-cell:/Users/thegreatest/PyFolder/Khpi/KhpiNote.ipynb#X16sZmlsZQ%3D%3D?line=6'>7</a>\u001b[0m     \u001b[39mraise\u001b[39;00m \u001b[39mValueError\u001b[39;00m(\u001b[39m\"\u001b[39m\u001b[39mError. A non-numeric value is present in the list: \u001b[39m\u001b[39m{}\u001b[39;00m\u001b[39m\"\u001b[39m\u001b[39m.\u001b[39mformat(x))\n",
      "\u001b[0;31mValueError\u001b[0m: Error. A non-numeric value is present in the list: afaf"
     ]
    }
   ],
   "source": [
    "input_list = [5, 3, 78, 3, 23, 7, 34, \"afaf\"]\n",
    "print(task_8(input_list))"
   ]
  }
 ],
 "metadata": {
  "kernelspec": {
   "display_name": "Python 3 (ipykernel)",
   "language": "python",
   "name": "python3"
  },
  "language_info": {
   "codemirror_mode": {
    "name": "ipython",
    "version": 3
   },
   "file_extension": ".py",
   "mimetype": "text/x-python",
   "name": "python",
   "nbconvert_exporter": "python",
   "pygments_lexer": "ipython3",
   "version": "3.11.6"
  }
 },
 "nbformat": 4,
 "nbformat_minor": 4
}
